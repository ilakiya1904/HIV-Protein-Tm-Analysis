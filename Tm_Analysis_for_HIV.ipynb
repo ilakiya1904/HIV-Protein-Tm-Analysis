{
  "nbformat": 4,
  "nbformat_minor": 0,
  "metadata": {
    "colab": {
      "provenance": [],
      "authorship_tag": "ABX9TyNTcQCV0QQpKONeF3hECQVc"
    },
    "kernelspec": {
      "name": "python3",
      "display_name": "Python 3"
    },
    "language_info": {
      "name": "python"
    }
  },
  "cells": [
    {
      "cell_type": "code",
      "execution_count": 3,
      "metadata": {
        "colab": {
          "base_uri": "https://localhost:8080/"
        },
        "id": "wk7JmDsjGW3L",
        "outputId": "57ac67e5-574c-4b06-f448-957c0eb50273"
      },
      "outputs": [
        {
          "output_type": "stream",
          "name": "stdout",
          "text": [
            "Fetched Sequence (1TKX_A): PISPIETVPVKLKPGMDGPKVKQWPLTEEKIKALVEICTEMEKEGKISKI...\n",
            "Mean Absolute Error: 16.30°C\n",
            "Predicted Tm for '1TKX_A': 47.20°C\n"
          ]
        }
      ],
      "source": [
        "\n",
        "import pandas as pd\n",
        "import numpy as np\n",
        "from Bio import Entrez, SeqIO\n",
        "from Bio.SeqUtils.ProtParam import ProteinAnalysis\n",
        "from sklearn.model_selection import train_test_split\n",
        "from sklearn.tree import DecisionTreeRegressor\n",
        "from sklearn.metrics import mean_absolute_error\n",
        "\n",
        "# email for NCBI access\n",
        "Entrez.email = \"ilakiya1909@gmail.com\"\n",
        "\n",
        "# fetch protein using NCBI\n",
        "def fetch_protein_sequence(accession):\n",
        "    try:\n",
        "        handle = Entrez.efetch(db=\"protein\", id=accession, rettype=\"fasta\", retmode=\"text\")\n",
        "        record = SeqIO.read(handle, \"fasta\")\n",
        "        handle.close()\n",
        "        return str(record.seq)\n",
        "    except Exception as e:\n",
        "        print(f\"Error fetching sequence: {e}\")\n",
        "        return None\n",
        "\n",
        "\n",
        "hiv_protein_accession = \"1TKX_A\"\n",
        "\n",
        "# Fetch sequence\n",
        "hiv_protein_sequence = fetch_protein_sequence(hiv_protein_accession)\n",
        "\n",
        "if hiv_protein_sequence:\n",
        "    print(f\"Fetched Sequence ({hiv_protein_accession}): {hiv_protein_sequence[:50]}...\")\n",
        "\n",
        "\n",
        "def extract_features(sequence):\n",
        "    analyzed_seq = ProteinAnalysis(sequence)\n",
        "    aa_comp = analyzed_seq.amino_acids_percent\n",
        "    return list(aa_comp.values())\n",
        "\n",
        "# Example dataset\n",
        "data = {\n",
        "    \"Sequence\": [\n",
        "        \"MKTLLILTCLVAVALARPKT\",\n",
        "        \"MGDVEKGKKIFIMKCSQCHTVEKGGKHKTGPNLHGQVC\",\n",
        "        \"MAKKNVSTVLASSLAVVTAVIL\",\n",
        "        \"MKTVFAGVLMNTSK\",\n",
        "        \"MTQLLQFSAFAISASALSTF\"\n",
        "    ],\n",
        "    \"Tm\": [55.3, 63.5, 47.2, 58.9, 52.7]  }\n",
        "\n",
        "df = pd.DataFrame(data)\n",
        "\n",
        "df[\"Features\"] = df[\"Sequence\"].apply(extract_features)\n",
        "X = np.vstack(df[\"Features\"].values)\n",
        "y = df[\"Tm\"].values\n",
        "\n",
        "X_train, X_test, y_train, y_test = train_test_split(X, y, test_size=0.2, random_state=42)\n",
        "\n",
        "model = DecisionTreeRegressor()\n",
        "model.fit(X_train, y_train)\n",
        "\n",
        "y_pred = model.predict(X_test)\n",
        "mae = mean_absolute_error(y_test, y_pred)\n",
        "print(f\"Mean Absolute Error: {mae:.2f}°C\")\n",
        "\n",
        "if hiv_protein_sequence:\n",
        "    new_features = np.array(extract_features(hiv_protein_sequence)).reshape(1, -1)\n",
        "    predicted_tm = model.predict(new_features)\n",
        "    print(f\"Predicted Tm for '{hiv_protein_accession}': {predicted_tm[0]:.2f}°C\")\n"
      ]
    }
  ]
}